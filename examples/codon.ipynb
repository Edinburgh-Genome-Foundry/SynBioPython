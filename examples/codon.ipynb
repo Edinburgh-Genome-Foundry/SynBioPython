{
 "cells": [
  {
   "cell_type": "markdown",
   "metadata": {},
   "source": [
    "# SynBioPython codon usage module"
   ]
  },
  {
   "cell_type": "markdown",
   "metadata": {},
   "source": [
    "This notebook demonstrates the functionalities of the codon usage module of [SynBiopython](https://synbiopython.org)."
   ]
  },
  {
   "cell_type": "code",
   "execution_count": 1,
   "metadata": {},
   "outputs": [],
   "source": [
    "from collections import Counter\n",
    "\n",
    "from synbiopython.codon import table, taxonomy_utils, utils"
   ]
  },
  {
   "cell_type": "markdown",
   "metadata": {},
   "source": [
    "The taxonomy_utils module supports both organism names and taxonomy ids, and mapping between both identifiers:"
   ]
  },
  {
   "cell_type": "code",
   "execution_count": 1,
   "metadata": {},
   "outputs": [
    {
     "name": "stdout",
     "output_type": "stream",
     "text": [
      "Name: Saccharomyces cerevisiae\n",
      "Taxonomy id: 4932\n"
     ]
    }
   ],
   "source": [
    "name = taxonomy_utils.get_organism_name(4932)\n",
    "tax_id = taxonomy_utils.get_tax_id(\"Saccharomyces cerevisiae\")\n",
    "\n",
    "print(\"Name:\", name)\n",
    "print(\"Taxonomy id:\", tax_id)"
   ]
  },
  {
   "cell_type": "markdown",
   "metadata": {},
   "source": [
    "Codon usage tables can be retrieved through either name or taxonomy id:"
   ]
  },
  {
   "cell_type": "code",
   "execution_count": 1,
   "metadata": {},
   "outputs": [],
   "source": [
    "name_table = table.get_table(name)\n",
    "tax_id_table = table.get_table(tax_id)"
   ]
  },
  {
   "cell_type": "markdown",
   "metadata": {},
   "source": [
    "These will be the same, irrespective of the method of retrieval:"
   ]
  },
  {
   "cell_type": "code",
   "execution_count": 1,
   "metadata": {},
   "outputs": [],
   "source": [
    "assert name_table == tax_id_table"
   ]
  },
  {
   "cell_type": "markdown",
   "metadata": {},
   "source": [
    "The table is a simple dictionary of amino acids to codons, which are themselves a codon to usage frequency dictionary:"
   ]
  },
  {
   "cell_type": "code",
   "execution_count": 1,
   "metadata": {},
   "outputs": [
    {
     "name": "stdout",
     "output_type": "stream",
     "text": [
      "{'CTC': 0.06, 'CTG': 0.11, 'CTT': 0.13, 'CTA': 0.14, 'TTA': 0.28, 'TTG': 0.29}\n"
     ]
    }
   ],
   "source": [
    "l_codons = name_table[\"L\"]\n",
    "print(l_codons)"
   ]
  },
  {
   "cell_type": "markdown",
   "metadata": {},
   "source": [
    "## Utility methods"
   ]
  },
  {
   "cell_type": "markdown",
   "metadata": {},
   "source": [
    "Utility methods are available for random sampling of codons, and for performing simple codon optimisations.\n",
    "\n",
    "Repeated sampling of lysine-encoding codons results in a comparable frequency between sampled codon usage and that expected from the supplied codon usage table:"
   ]
  },
  {
   "cell_type": "code",
   "execution_count": 1,
   "metadata": {},
   "outputs": [
    {
     "name": "stdout",
     "output_type": "stream",
     "text": [
      "CTT 0.1274 0.13\n",
      "CTC 0.0624 0.06\n",
      "TTA 0.2834 0.28\n",
      "TTG 0.2823 0.29\n",
      "CTA 0.1441 0.14\n",
      "CTG 0.1004 0.11\n"
     ]
    }
   ],
   "source": [
    "sampled = [utils.sample(name_table, \"L\") for _ in range(10000)]\n",
    "\n",
    "codons = Counter(sampled)\n",
    "\n",
    "for cdn, count in codons.items():\n",
    "    print(cdn, count / len(sampled), l_codons[cdn])"
   ]
  },
  {
   "cell_type": "markdown",
   "metadata": {},
   "source": [
    "Based on this probabilistic sampling, a simple codon usage optimisation method is provided:"
   ]
  },
  {
   "cell_type": "code",
   "execution_count": 1,
   "metadata": {
    "scrolled": true
   },
   "outputs": [
    {
     "name": "stdout",
     "output_type": "stream",
     "text": [
      "GCGTGTGATGAATTCGGTCATATCAAATTAATGAACCCGCAACGTTCTACCGTATGGTAT\n"
     ]
    }
   ],
   "source": [
    "aa_seq = 'ACDEFGHIKLMNPQRSTVWY'\n",
    "print(utils.optimise(name_table, aa_seq))"
   ]
  }
 ],
 "metadata": {
  "kernelspec": {
   "display_name": "Python 3",
   "language": "python",
   "name": "python3"
  },
  "language_info": {
   "codemirror_mode": {
    "name": "ipython",
    "version": 3
   },
   "file_extension": ".py",
   "mimetype": "text/x-python",
   "name": "python",
   "nbconvert_exporter": "python",
   "pygments_lexer": "ipython3",
   "version": "3.7.6"
  }
 },
 "nbformat": 4,
 "nbformat_minor": 4
}
