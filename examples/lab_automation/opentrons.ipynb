{
 "cells": [
  {
   "cell_type": "markdown",
   "metadata": {},
   "source": [
    "# SynBioPython & Opentrons (OT)"
   ]
  },
  {
   "cell_type": "markdown",
   "metadata": {},
   "source": [
    "This notebook demonstrates how to export Synbiopython well transfers into an Opentrons API Python script."
   ]
  },
  {
   "cell_type": "markdown",
   "metadata": {},
   "source": [
    "---\n",
    "## Section 0: script generator"
   ]
  },
  {
   "cell_type": "code",
   "execution_count": 1,
   "metadata": {},
   "outputs": [],
   "source": [
    "import sys, string\n",
    "\n",
    "class ScriptGen:\n",
    "    \"\"\"Class for generating a Python script.\"\"\"\n",
    "\n",
    "    def __init__(self, tab=\"    \"):\n",
    "        self.code = []\n",
    "        self.tab = tab\n",
    "        self.level = 0\n",
    "\n",
    "    def script(self):\n",
    "        return \"\".join(self.code)\n",
    "\n",
    "    def write(self, string, end=\"\\n\"):\n",
    "        self.code.append(self.tab * self.level + string + end)\n",
    "\n",
    "    def indent(self):\n",
    "        self.level = self.level + 1\n",
    "\n",
    "    def unindent(self):\n",
    "        if self.level == 0:\n",
    "            raise SyntaxError\n",
    "        self.level = self.level - 1"
   ]
  },
  {
   "cell_type": "markdown",
   "metadata": {},
   "source": [
    "---\n",
    "## Section 1: import OT plates"
   ]
  },
  {
   "cell_type": "markdown",
   "metadata": {},
   "source": [
    "Open the Labware Library website (https://labware.opentrons.com) and obtain the `API NAME` of the desired plates. Here we use a 96-well plate (`biorad_96_wellplate_200ul_pcr`) and a 384-well plate (`corning_384_wellplate_112ul_flat`)."
   ]
  },
  {
   "cell_type": "code",
   "execution_count": 18,
   "metadata": {},
   "outputs": [],
   "source": [
    "from synbiopython import lab_automation as lab\n",
    "source = lab.Plate96()\n",
    "destination = lab.Plate384()"
   ]
  },
  {
   "cell_type": "code",
   "execution_count": 19,
   "metadata": {},
   "outputs": [],
   "source": [
    "source.name = 'biorad_96_wellplate_200ul_pcr'\n",
    "destination.name = 'corning_384_wellplate_112ul_flat'"
   ]
  },
  {
   "cell_type": "markdown",
   "metadata": {},
   "source": [
    "Alternatively, new classes can be created for these plates."
   ]
  },
  {
   "cell_type": "markdown",
   "metadata": {},
   "source": [
    "---\n",
    "## Section 2: synbiopython plate & transfers"
   ]
  },
  {
   "cell_type": "code",
   "execution_count": 20,
   "metadata": {},
   "outputs": [],
   "source": [
    "source.wells[\"A1\"].add_content({\"Compound_1\": 1}, volume=5 * 10 ** (-6))\n",
    "source.wells[\"C2\"].add_content({\"Compound_X\": 1}, volume=15 * 10 ** (-6))\n",
    "\n",
    "transfer = lab.Transfer(source.wells[\"C2\"], destination.wells[\"G8\"], 3 * 10 ** (-6))\n",
    "transfer_2 = lab.Transfer(source.wells[\"A1\"], destination.wells[\"I12\"], 2 * 10 ** (-6))"
   ]
  },
  {
   "cell_type": "markdown",
   "metadata": {},
   "source": [
    "---\n",
    "## Section 3: OpentronsSetup"
   ]
  },
  {
   "cell_type": "code",
   "execution_count": 33,
   "metadata": {},
   "outputs": [],
   "source": [
    "class OpentronsSetup:\n",
    "    \"\"\"Class for storing synbiopython transfers for exporting as an OT script.\n",
    "\n",
    "    Parameters\n",
    "    ----------\n",
    "    \n",
    "    plates\n",
    "      dict in the format {Plate(): int}, where int is the plate's position on the OT machine (1--11)\n",
    "\n",
    "    transfers\n",
    "      dict: {'left': transfers1, 'right': transfers2}, \n",
    "      where transfers# is a list of Transfer objects or PickList().transfers_list for each pipette\n",
    "    \"\"\"\n",
    "\n",
    "    def __init__(self, plates, transfers):\n",
    "        self.plates = plates\n",
    "        self.transfers = transfers\n",
    "        self.metadata = {}\n",
    "\n",
    "    def add_plate(self, plate, position):\n",
    "        self.plates[plate] = position\n",
    "\n",
    "    def export_script(self):\n",
    "        \"\"\"Export transfers as an OT API script.\"\"\"\n",
    "\n",
    "        def write_transfers(side, transfers):\n",
    "            \"\"\"Write transfers of one pipette, using ScriptGen.\n",
    "            \n",
    "            Parameters\n",
    "            ----------\n",
    "\n",
    "            side\n",
    "              str key of OpentronsSetup().transfers\n",
    "\n",
    "            transfers\n",
    "              value of OpentronsSetup().transfers (list of Transfer objects)\n",
    "            \"\"\"\n",
    "\n",
    "            for transfer in transfers:\n",
    "                pipette = side + \"_pipette\"\n",
    "                # we want opentrons volume (uL), from synbiopython volume (L=10**6 uL)\n",
    "                volume = transfer.volume * 10**6\n",
    "\n",
    "                source_plate = \"plate_\" + str(ot.plates[transfer.source_well.plate])\n",
    "                source_well = transfer.source_well.name\n",
    "                destination_plate = \"plate_\" + str(ot.plates[transfer.destination_well.plate])\n",
    "                destination_well = transfer.destination_well.name\n",
    "\n",
    "                c.write(\"%(pipette)s.transfer(%(volume)f, %(source_plate)s['%(source_well)s'], %(destination_plate)s['%(destination_well)s'])\" % {\n",
    "                    \"pipette\": pipette,\n",
    "                    \"volume\": volume,\n",
    "                    \"source_plate\": source_plate,\n",
    "                    \"source_well\": source_well,\n",
    "                    \"destination_plate\": destination_plate,\n",
    "                    \"destination_well\": destination_well,\n",
    "                    })\n",
    "\n",
    "\n",
    "        c = ScriptGen()\n",
    "        c.write(\"from opentrons import protocol_api\")\n",
    "        c.write(\"\")\n",
    "        c.write(\"# Parameters\")\n",
    "        c.write(\"left_pipette_name = ''\")\n",
    "        c.write(\"right_pipette_name = ''\")\n",
    "\n",
    "        c.write((\"metadata = \" + str(ot.metadata)))\n",
    "        c.write(\"\")\n",
    "\n",
    "        c.write(\"def run(protocol: protocol_api.ProtocolContext):\")\n",
    "        c.indent()\n",
    "        c.write(\"\")\n",
    "        c.write(\"# labware\")\n",
    "        for plate, pos in ot.plates.items():\n",
    "            c.write(\"plate_%(pos)d = protocol.load_labware('%(name)s', %(pos)d)\" % {\"pos\": pos, \"name\": plate.name})\n",
    "\n",
    "        c.write(\"\")\n",
    "        c.write(\"# pipettes\")\n",
    "        c.write(\"left_pipette = protocol.load_instrument(left_pipette_name, 'left', tip_racks=[tiprack])\")\n",
    "        c.write(\"right_pipette = protocol.load_instrument(right_pipette_name, 'right', tip_racks=[tiprack])\")\n",
    "\n",
    "        c.write(\"\")\n",
    "        c.write(\"# commands\")\n",
    "        for side, transfers in ot.transfers.items():\n",
    "            write_transfers(side, transfers)\n",
    "            c.write(\"\")\n",
    "\n",
    "        # c.indent()\n",
    "        # c.write(\"\")\n",
    "        # c.unindent()\n",
    "        return(c.script())"
   ]
  },
  {
   "cell_type": "markdown",
   "metadata": {},
   "source": [
    "---\n",
    "## Section 4: generating an OT API script"
   ]
  },
  {
   "cell_type": "code",
   "execution_count": 34,
   "metadata": {},
   "outputs": [],
   "source": [
    "plates = {source: 1, destination: 2}\n",
    "transfers = {'left': [transfer, transfer_2], 'right': [transfer]}"
   ]
  },
  {
   "cell_type": "code",
   "execution_count": 35,
   "metadata": {},
   "outputs": [],
   "source": [
    "ot = OpentronsSetup(plates=plates, transfers=transfers)\n",
    "ot.metadata = {'apiLevel': '2.2'}"
   ]
  },
  {
   "cell_type": "code",
   "execution_count": 38,
   "metadata": {},
   "outputs": [
    {
     "name": "stdout",
     "output_type": "stream",
     "text": [
      "from opentrons import protocol_api\n",
      "\n",
      "# Parameters\n",
      "left_pipette_name = ''\n",
      "right_pipette_name = ''\n",
      "metadata = {'apiLevel': '2.2'}\n",
      "\n",
      "def run(protocol: protocol_api.ProtocolContext):\n",
      "    \n",
      "    # labware\n",
      "    plate_1 = protocol.load_labware('biorad_96_wellplate_200ul_pcr', 1)\n",
      "    plate_2 = protocol.load_labware('corning_384_wellplate_112ul_flat', 2)\n",
      "    \n",
      "    # pipettes\n",
      "    left_pipette = protocol.load_instrument(left_pipette_name, 'left', tip_racks=[tiprack])\n",
      "    right_pipette = protocol.load_instrument(right_pipette_name, 'right', tip_racks=[tiprack])\n",
      "    \n",
      "    # commands\n",
      "    left_pipette.transfer(3.000000, plate_1['C2'], plate_2['G8'])\n",
      "    left_pipette.transfer(2.000000, plate_1['A1'], plate_2['I12'])\n",
      "    \n",
      "    right_pipette.transfer(3.000000, plate_1['C2'], plate_2['G8'])\n",
      "    \n",
      "\n"
     ]
    }
   ],
   "source": [
    "print(ot.export_script())"
   ]
  },
  {
   "cell_type": "code",
   "execution_count": 39,
   "metadata": {},
   "outputs": [],
   "source": [
    "# f = open('ot.py', 'wb')\n",
    "# f.write(ot.export_script().encode('utf8'))\n",
    "# f.close()"
   ]
  }
 ],
 "metadata": {
  "kernelspec": {
   "display_name": "dev",
   "language": "python",
   "name": "dev"
  },
  "language_info": {
   "codemirror_mode": {
    "name": "ipython",
    "version": 3
   },
   "file_extension": ".py",
   "mimetype": "text/x-python",
   "name": "python",
   "nbconvert_exporter": "python",
   "pygments_lexer": "ipython3",
   "version": "3.6.7"
  }
 },
 "nbformat": 4,
 "nbformat_minor": 4
}
